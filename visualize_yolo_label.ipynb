{
  "nbformat": 4,
  "nbformat_minor": 0,
  "metadata": {
    "colab": {
      "name": "visualize_yolo_label.ipynb",
      "provenance": [],
      "authorship_tag": "ABX9TyPflBfRyNTjL+V7oK7C3LnD",
      "include_colab_link": true
    },
    "kernelspec": {
      "name": "python3",
      "display_name": "Python 3"
    }
  },
  "cells": [
    {
      "cell_type": "markdown",
      "metadata": {
        "id": "view-in-github",
        "colab_type": "text"
      },
      "source": [
        "<a href=\"https://colab.research.google.com/github/take2rohit/yolov4/blob/master/visualize_yolo_label.ipynb\" target=\"_parent\"><img src=\"https://colab.research.google.com/assets/colab-badge.svg\" alt=\"Open In Colab\"/></a>"
      ]
    },
    {
      "cell_type": "code",
      "metadata": {
        "id": "i45I3MV38kHi",
        "colab_type": "code",
        "colab": {}
      },
      "source": [
        "from google.colab import drive\n",
        "drive.mount('/content/drive')"
      ],
      "execution_count": null,
      "outputs": []
    },
    {
      "cell_type": "code",
      "metadata": {
        "id": "o55X3qkz8nrw",
        "colab_type": "code",
        "colab": {}
      },
      "source": [
        "def visualise_yolo_dataset(image_file,label_file):\n",
        "    with open(label_file, \"r\") as f:\n",
        "        label = f.read()\n",
        "\n",
        "    img = cv2.imread(image_file)\n",
        "    img = cv2.cvtColor(img,cv2.COLOR_BGR2RGB)\n",
        "    img_h,img_w = img.shape[0], img.shape[1]\n",
        "\n",
        "    labels = label.strip().split('\\n')\n",
        "    for label in labels:\n",
        "        label= label.split()\n",
        "        n_x,n_y = float(label[1]),float(label[2]) \n",
        "        n_w,n_h = float(label[3]),float(label[4]) \n",
        "\n",
        "        x_c,y_c = int(img_w*n_x) , int(img_h * n_y)\n",
        "        w,h =  int(img_w*n_w) , int(img_h * n_h)\n",
        "\n",
        "        x1,y1 = x_c-w//2 , y_c-h//2\n",
        "        x2,y2 = x_c+w//2 , y_c+h//2\n",
        "\n",
        "        img = cv2.rectangle(img, (x1,y1),(x2,y2),[0,255,255],3)\n",
        "    return img"
      ],
      "execution_count": null,
      "outputs": []
    },
    {
      "cell_type": "markdown",
      "metadata": {
        "id": "WPVXGgLf8wM7",
        "colab_type": "text"
      },
      "source": [
        "You can simply change `image_file` to visualise your data.\n",
        "NOTE: This code assumes all labels and images are in same directory\n",
        "Below code randomly shows a sample dataset"
      ]
    },
    {
      "cell_type": "code",
      "metadata": {
        "id": "9hb-8--e8sPr",
        "colab_type": "code",
        "colab": {}
      },
      "source": [
        "import random\n",
        "\n",
        "root = '/content/combined_all_sets_bike_plate'\n",
        "dataset_folder_list = os.listdir(root)\n",
        "\n",
        "image_file = os.path.join(root,random.choice(dataset_folder_list)[:-3]+'jpg')\n",
        "label_file = image_file[:-3]+'txt'\n",
        "\n",
        "img = visualise_yolo_dataset(image_file,label_file)\n",
        "plt.imshow(img)"
      ],
      "execution_count": null,
      "outputs": []
    }
  ]
}